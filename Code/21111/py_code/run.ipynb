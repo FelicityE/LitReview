{
    "cells": [
        {
            "cell_type": "code",
            "execution_count": 1,
            "source": [
                "import fileHandle\n",
                "from scipy.fft import fft, ifft, fftfreq\n",
                "import matplotlib.pyplot as plt\n",
                "import numpy as np\n",
                "import cmath\n",
                "%matplotlib widget\n",
                "from mpl_toolkits import mplot3d"
            ],
            "outputs": [],
            "metadata": {}
        },
        {
            "cell_type": "code",
            "execution_count": 2,
            "source": [
                "filePath = \"EMG_data_for_gestures-master/*/*.txt\"\n",
                "# filePath = \"EMG_data_for_gestures-master/01/1_raw_data_13-12_22.03.16.txt\"\n",
                "data, fileList = fileHandle.readFiles(filePath)\n",
                "\n",
                "print(fileList[0])\n",
                "print(data[0][:,0])\n",
                "# data[filenumber][:,(0 = time(ms), 1 = channel1, 2 = channel2, ... , 8 = channel8, 9 = class)]"
            ],
            "outputs": [
                {
                    "output_type": "stream",
                    "name": "stdout",
                    "text": [
                        "EMG_data_for_gestures-master/08/1_raw_data_12-14_23.03.16.txt\n",
                        "[1.0000e+00 4.0000e+00 5.0000e+00 ... 6.2922e+04 6.2923e+04 6.2924e+04]\n"
                    ]
                }
            ],
            "metadata": {}
        },
        {
            "cell_type": "code",
            "execution_count": 38,
            "source": [
                "fig, ax = plt.subplots(nrows=2, ncols=3)\n",
                "\n",
                "# channel used array\n",
                "chi = data[0][:,1]\n",
                "# class array\n",
                "cl = data[0][:,9]\n",
                "\n",
                "mfreq = np.zeros((6))\n",
                "mamp = np.zeros((6))\n",
                "\n",
                "count = 1\n",
                "for row in ax:\n",
                "  for col in row:\n",
                "    # specify class\n",
                "    cli = np.where(cl == count)\n",
                "\n",
                "    # select channel of class\n",
                "    chicli = chi[cli]\n",
                "    # print(chicli)\n",
                "\n",
                "    # y = np.zeros((len(chicli)))\n",
                "    y = fft(chicli)\n",
                "    n = chicli.size\n",
                "    timestep = 0.001\n",
                "    freq = np.fft.fftfreq(n, d = timestep)\n",
                "    # plt.figure()\n",
                "    col.plot(freq,y.real)\n",
                "    col.axvline(x=0,color = 'r')\n",
                "    col.set_ylim([0,0.2])\n",
                "    # plt.yscale('Log')\n",
                "\n",
                "\n",
                "    mamp[count-1] = np.max(y.real)\n",
                "    temp_mamp = mamp[count-1]\n",
                "    temp_yreal = y.real\n",
                "    temp_comp = np.where(temp_mamp == temp_yreal)\n",
                "    # print(freq[what])\n",
                "    temp_freqOfwhat = freq[temp_comp]\n",
                "    # print(why[0])\n",
                "    mfreq[count-1] = temp_freqOfwhat[0]\n",
                "\n",
                "    \n",
                "    count += 1\n",
                "    if count == 7: break\n",
                "\n",
                "# plt.yscale('log')\n",
                "print(mamp)\n",
                "print(mfreq)\n",
                "fig.tight_layout()\n",
                "\n",
                "plt.show()\n",
                "# plt.title(\"FFT (D1CH1Cl1)\")\n",
                "# plt.ylabel(\"Amplitude\")\n",
                "# plt.xlabel(\"Sample\")"
            ],
            "outputs": [
                {
                    "output_type": "display_data",
                    "data": {
                        "text/plain": [
                            "Canvas(toolbar=Toolbar(toolitems=[('Home', 'Reset original view', 'home', 'home'), ('Back', 'Back to previous …"
                        ],
                        "application/vnd.jupyter.widget-view+json": {
                            "version_major": 2,
                            "version_minor": 0,
                            "model_id": "d8873e1c15854bdb8222e684c2bc2646"
                        }
                    },
                    "metadata": {}
                },
                {
                    "output_type": "stream",
                    "name": "stdout",
                    "text": [
                        "[0.00343322 0.12177012 0.08073051 0.05095225 0.04438057 0.05832643]\n",
                        "[21.16234997  7.14711138 16.85006878 18.01506715  5.56242274  9.77747808]\n"
                    ]
                }
            ],
            "metadata": {}
        },
        {
            "cell_type": "code",
            "execution_count": null,
            "source": [
                "fig, ax = plt.subplots(nrows=2, ncols=3)\n",
                "\n",
                "# channel used array\n",
                "chi = data[0][:,2]\n",
                "# class array\n",
                "cl = data[0][:,9]\n",
                "\n",
                "count = 1\n",
                "for row in ax:\n",
                "  for col in row:\n",
                "    cli = np.where(cl == count)\n",
                "    chicli = chi[cli]\n",
                "    y = fft(chicli)\n",
                "    n = chicli.size\n",
                "    timestep = 0.001\n",
                "    freq = np.fft.fftfreq(n, d = timestep)\n",
                "    col.plot(freq,abs(y))\n",
                "    col.axvline(x=0,color = 'r')\n",
                "    col.set_ylim([0,0.2])\n",
                "    count += 1\n",
                "    if count == 7: break\n",
                "\n",
                "fig.tight_layout()\n",
                "plt.show()"
            ],
            "outputs": [],
            "metadata": {}
        },
        {
            "cell_type": "markdown",
            "source": [
                "Testing"
            ],
            "metadata": {}
        },
        {
            "cell_type": "code",
            "execution_count": null,
            "source": [
                "import matplotlib.pyplot as plt\n",
                "import numpy as np\n",
                "\n",
                "t = np.arange(0.01, 5.0, 0.01)\n",
                "s1 = np.sin(2 * np.pi * t)\n",
                "s2 = np.exp(-t)\n",
                "s3 = np.sin(4 * np.pi * t)\n",
                "\n",
                "ax1 = plt.subplot(311)\n",
                "plt.plot(t, s1)\n",
                "plt.setp(ax1.get_xticklabels(), fontsize=6)\n",
                "\n",
                "# share x only\n",
                "ax2 = plt.subplot(312, sharey=ax1)\n",
                "plt.plot(t, s2)\n",
                "# make these tick labels invisible\n",
                "plt.setp(ax2.get_xticklabels(), visible=False)\n",
                "\n",
                "# share x and y\n",
                "ax3 = plt.subplot(313)\n",
                "plt.plot(t, s3)\n",
                "plt.xlim(0.01, 5.0)\n",
                "plt.show()"
            ],
            "outputs": [],
            "metadata": {}
        },
        {
            "cell_type": "code",
            "execution_count": 3,
            "source": [
                "x1 = data[0][:,1]\n",
                "y1 = fft(x1)\n",
                "n = x1.size\n",
                "timestep = 0.001\n",
                "freq = np.fft.fftfreq(n, d = timestep)\n",
                "plt.plot(freq,\n",
                "y1.real)\n",
                "plt.show()\n"
            ],
            "outputs": [
                {
                    "output_type": "display_data",
                    "data": {
                        "text/plain": [
                            "Canvas(toolbar=Toolbar(toolitems=[('Home', 'Reset original view', 'home', 'home'), ('Back', 'Back to previous …"
                        ],
                        "application/vnd.jupyter.widget-view+json": {
                            "version_major": 2,
                            "version_minor": 0,
                            "model_id": "bf50fa7876f048afbb99a5a69f09ed7e"
                        }
                    },
                    "metadata": {}
                }
            ],
            "metadata": {}
        },
        {
            "cell_type": "markdown",
            "source": [
                "Shift (50) Windowed fft "
            ],
            "metadata": {}
        },
        {
            "cell_type": "code",
            "execution_count": null,
            "source": [
                "x = data[0][:,1]\n",
                "\n",
                "mov = 200\n",
                "y = np.zeros((len(x),mov))\n",
                "z = np.zeros((len(x)))\n",
                "\n",
                "for i in range(len(x)-mov):\n",
                "  temp = fft(x[i:(i+mov)])\n",
                "  z[i] = sum(temp)/len(temp)\n",
                "  for j in range(mov):\n",
                "    y[i,j] = temp[j]\n",
                "\n",
                "plt.plot(y,color = 'r')\n",
                "\n",
                "\n",
                "plt.ylabel(\"Amplitude\")\n",
                "plt.xlabel(\"Sample\")\n",
                "# plt.legend()"
            ],
            "outputs": [],
            "metadata": {}
        },
        {
            "cell_type": "markdown",
            "source": [
                "cusignal Example: "
            ],
            "metadata": {}
        },
        {
            "cell_type": "code",
            "execution_count": null,
            "source": [
                "import cusignal\n",
                "import cupy as cp\n",
                "from cupy.fft import fft, fftshift\n",
                "import matplotlib.pyplot as plt"
            ],
            "outputs": [],
            "metadata": {}
        },
        {
            "cell_type": "code",
            "execution_count": null,
            "source": [
                "window = cusignal.blackman(51)\n",
                "plt.plot(cp.asnumpy(window))\n",
                "plt.title(\"Blackman window\")\n",
                "plt.ylabel(\"Amplitude\")\n",
                "plt.xlabel(\"Sample\")"
            ],
            "outputs": [],
            "metadata": {}
        },
        {
            "cell_type": "code",
            "execution_count": null,
            "source": [
                "plt.figure()\n",
                "A = fft(window, 2048) / (len(window)/2.0)\n",
                "freq = cp.linspace(-0.5, 0.5, len(A))\n",
                "response = cp.abs(fftshift(A / cp.abs(A).max()))\n",
                "response = 20 * cp.log10(cp.maximum(response, 1e-10))\n",
                "plt.plot(cp.asnumpy(freq), cp.asnumpy(response))\n",
                "plt.axis([-0.5, 0.5, -120, 0])\n",
                "plt.title(\"Frequency response of the Blackman window\")\n",
                "plt.ylabel(\"Normalized magnitude [dB]\")\n",
                "plt.xlabel(\"Normalized frequency [cycles per sample]\")"
            ],
            "outputs": [],
            "metadata": {}
        }
    ],
    "metadata": {
        "orig_nbformat": 4,
        "language_info": {
            "name": "python",
            "version": "3.8.8",
            "mimetype": "text/x-python",
            "codemirror_mode": {
                "name": "ipython",
                "version": 3
            },
            "pygments_lexer": "ipython3",
            "nbconvert_exporter": "python",
            "file_extension": ".py"
        },
        "kernelspec": {
            "name": "python3",
            "display_name": "Python 3.8.8 64-bit ('base': conda)"
        },
        "interpreter": {
            "hash": "3f6142c27ccab6b257fcc200d64f171abe4e952f97dcf9dab769927b8d9a7bb5"
        }
    },
    "nbformat": 4,
    "nbformat_minor": 2
}